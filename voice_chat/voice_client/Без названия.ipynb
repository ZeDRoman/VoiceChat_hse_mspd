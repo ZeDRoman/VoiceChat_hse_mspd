{
 "cells": [
  {
   "cell_type": "code",
   "execution_count": 5,
   "id": "joint-trader",
   "metadata": {},
   "outputs": [],
   "source": [
    "import numpy as np\n",
    "import sounddevice as sd"
   ]
  },
  {
   "cell_type": "code",
   "execution_count": 9,
   "id": "touched-criterion",
   "metadata": {},
   "outputs": [],
   "source": [
    "fs = 44100 \n",
    "duration = 5\n",
    "myrecording = sd.rec(int(duration * fs), samplerate=fs, channels=2)\n",
    "sd.wait()"
   ]
  },
  {
   "cell_type": "code",
   "execution_count": 10,
   "id": "prescription-webcam",
   "metadata": {},
   "outputs": [],
   "source": [
    "sd.play(myrecording, fs)"
   ]
  },
  {
   "cell_type": "code",
   "execution_count": 2,
   "id": "finite-mechanism",
   "metadata": {},
   "outputs": [],
   "source": [
    "import threading\n",
    "import time"
   ]
  },
  {
   "cell_type": "code",
   "execution_count": 10,
   "id": "supported-crown",
   "metadata": {},
   "outputs": [],
   "source": [
    "import queue"
   ]
  },
  {
   "cell_type": "code",
   "execution_count": 3,
   "id": "integrated-partner",
   "metadata": {},
   "outputs": [],
   "source": [
    "def printd():\n",
    "    for i in range(10):\n",
    "        time.sleep(0.5)\n",
    "        print(25)"
   ]
  },
  {
   "cell_type": "code",
   "execution_count": 9,
   "id": "brief-registration",
   "metadata": {},
   "outputs": [
    {
     "name": "stdout",
     "output_type": "stream",
     "text": [
      "25\n",
      "25\n",
      "25\n",
      "25\n",
      "25\n",
      "25\n",
      "25\n",
      "25\n",
      "Hello\n",
      "25\n",
      "25\n"
     ]
    }
   ],
   "source": [
    "sa = threading.Thread(target=printd)\n",
    "sa.start()\n",
    "c = input()"
   ]
  }
 ],
 "metadata": {
  "kernelspec": {
   "display_name": "Python 3",
   "language": "python",
   "name": "python3"
  },
  "language_info": {
   "codemirror_mode": {
    "name": "ipython",
    "version": 3
   },
   "file_extension": ".py",
   "mimetype": "text/x-python",
   "name": "python",
   "nbconvert_exporter": "python",
   "pygments_lexer": "ipython3",
   "version": "3.8.5"
  }
 },
 "nbformat": 4,
 "nbformat_minor": 5
}
